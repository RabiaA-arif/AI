{
 "cells": [
  {
   "cell_type": "code",
   "execution_count": 1,
   "id": "65e9f569",
   "metadata": {},
   "outputs": [],
   "source": [
    "# %pip install langchain\n",
    "# %pip install langchain-community\n",
    "# %pip install pypdf\n",
    "# %pip install sentence-transformers\n",
    "# %pip install langchain\n",
    "# %pip install langchain-community\n",
    "# %pip install pinecone\n",
    "# ! pip install openai\n"
   ]
  },
  {
   "cell_type": "code",
   "execution_count": 23,
   "id": "5d850b2e-89f8-438b-81ff-85cfb8fac9c7",
   "metadata": {},
   "outputs": [],
   "source": [
    "# %pip install sentence-transformers"
   ]
  },
  {
   "cell_type": "code",
   "execution_count": 1,
   "id": "c9a09611",
   "metadata": {},
   "outputs": [],
   "source": [
    "import langchain\n",
    "from langchain.document_loaders import DirectoryLoader,PyPDFLoader\n",
    "from langchain.text_splitter import RecursiveCharacterTextSplitter\n",
    "import pypdf\n",
    "from langchain_community.embeddings import HuggingFaceEmbeddings"
   ]
  },
  {
   "cell_type": "code",
   "execution_count": 2,
   "id": "df3f2f98",
   "metadata": {},
   "outputs": [],
   "source": [
    "from dotenv import load_dotenv\n",
    "load_dotenv()\n",
    "import os"
   ]
  },
  {
   "cell_type": "code",
   "execution_count": 3,
   "id": "74f90a8d-b5d6-4b53-a32d-5e8b3dd20745",
   "metadata": {},
   "outputs": [
    {
     "name": "stdout",
     "output_type": "stream",
     "text": [
      "C:\\Users\\LENOVO\\miniconda3\\Lib\\site-packages\\pinecone\\__init__.py\n"
     ]
    }
   ],
   "source": [
    "# !pip install pinecone\n",
    "import pinecone\n",
    "print(pinecone.__file__)\n"
   ]
  },
  {
   "cell_type": "code",
   "execution_count": 4,
   "id": "dfb3a269-e48a-479d-9181-5569b1640db1",
   "metadata": {},
   "outputs": [],
   "source": [
    "from pinecone import Pinecone, ServerlessSpec\n",
    "#  api key of pincone vector database \n",
    "pc = Pinecone(api_key=\"pcsk_6F5Nao_NZDq1fx4jy9JJcqVitpWrvJzeDm7RJwpFHGKPDp3gzhYGNqPxzAXTbY5qnD5bMW\")\n",
    "#  creating index for storing data in vector form\n",
    "index = pc.Index(\"medicalbot\")\n",
    "\n",
    "# print(pc.list_indexes())\n",
    "\n",
    "# # You can now upsert/query\n",
    "# index.upsert(vectors=[(\"id1\", [0.1, 0.2, 0.3])])\n",
    "\n",
    "\n"
   ]
  },
  {
   "cell_type": "code",
   "execution_count": 5,
   "id": "4cd21a94-8eda-495e-86a2-2d8bac9bbe78",
   "metadata": {},
   "outputs": [],
   "source": [
    "#  create a function to fetch data from pdf\n",
    "import fitz \n",
    "def extract_text_from_pdf(file_path):\n",
    "    doc = fitz.open(file_path)\n",
    "    text = \"\"\n",
    "    for page in doc:\n",
    "        text += page.get_text()\n",
    "    return text\n",
    "\n",
    "pdf_text = extract_text_from_pdf(\"C:/AI-project/AI/AI/medical_chatbot/data/train-15-120.pdf\")"
   ]
  },
  {
   "cell_type": "code",
   "execution_count": 6,
   "id": "cc1ce956-c361-4e3b-8a0f-4110e7d6ddfc",
   "metadata": {},
   "outputs": [],
   "source": [
    "#  using hugging face model for embeddings data\n",
    "from sentence_transformers import SentenceTransformer\n",
    "model = SentenceTransformer('all-MiniLM-L6-v2')  # Fast & good quality\n",
    "chunks = [pdf_text[i:i+500] for i in range(0, len(pdf_text), 500)]  # break into chunks\n",
    "\n",
    "embeddings = model.encode(chunks).tolist()\n"
   ]
  },
  {
   "cell_type": "code",
   "execution_count": null,
   "id": "6809f0b7-34f2-4fb6-a3c0-6839f8a66231",
   "metadata": {},
   "outputs": [],
   "source": []
  },
  {
   "cell_type": "code",
   "execution_count": 7,
   "id": "c2bd435c-0d8e-4d5b-8ca7-fe578fccbf14",
   "metadata": {},
   "outputs": [
    {
     "data": {
      "text/plain": [
       "{'upserted_count': 922}"
      ]
     },
     "execution_count": 7,
     "metadata": {},
     "output_type": "execute_result"
    }
   ],
   "source": [
    "#  save embedding data into vector db\n",
    "from pinecone import Pinecone\n",
    "pc = Pinecone(api_key=\"pcsk_6F5Nao_NZDq1fx4jy9JJcqVitpWrvJzeDm7RJwpFHGKPDp3gzhYGNqPxzAXTbY5qnD5bMW\")\n",
    "index = pc.Index(\"medicalbot\")\n",
    "\n",
    "vectors = [(f\"id{i}\", embeddings[i], {\"text\": chunks[i]}) for i in range(len(chunks))]\n",
    "index.upsert(vectors=vectors)\n"
   ]
  },
  {
   "cell_type": "code",
   "execution_count": 28,
   "id": "0a34db6c-543a-421d-a74c-15ca2f1fb4d2",
   "metadata": {},
   "outputs": [],
   "source": [
    "#  asking question based on data\n",
    "query = \"what is treatment  gallblader cancer?\"\n",
    "query_embedding = model.encode([query])[0].tolist()\n",
    "\n",
    "results = index.query(vector=query_embedding, top_k=3, include_metadata=True)\n",
    "\n",
    "# retrieved_texts = [match['metadata']['text'] for match in results['matches']]\n"
   ]
  },
  {
   "cell_type": "code",
   "execution_count": 29,
   "id": "7a3024b0-50d6-4ca9-b03d-3b2e709ae909",
   "metadata": {},
   "outputs": [
    {
     "name": "stdout",
     "output_type": "stream",
     "text": [
      "0.647527337 r.”\n",
      "In Current Surgical Therapy, edited by John L. Cameron,\n",
      "sixth ed. St Louis: Mosby, 1998, pp.462-468.\n",
      "“Gallbladder Carcinoma.” In Clinical Oncology, edited by\n",
      "Abeloff, Martin D., second ed. New York: Churchill Liv-\n",
      "ingstone, 2000, pp.1730-1737.\n",
      "OTHER\n",
      "National Cancer Institute Cancer Trials web site. <http://cancer-\n",
      "trials.nci.nih.gov/system>. <http://www.cancertrials.com>.\n",
      "Kevin O. Hwang, M.D.\n",
      "Gallbladder disease see Cholecystitis\n",
      "GALE ENCYCLOPEDIA OF MEDICINE 2\n",
      "1380\n",
      "Gallbladder cancer\n",
      "Gallbl\n",
      "0.642518342 “Gallbladder Carcinoma.” In Clinical Oncology, edited by\n",
      "Abeloff, Martin D., second ed. New York: Churchill Liv-\n",
      "ingstone, 2000, pp.1730-1737.\n",
      "OTHER\n",
      "National Cancer Institute Cancer Trials web site. <http://cancer-\n",
      "trials.nci.nih.gov/system>. <http://www.cancertrials.com>.\n",
      "Kevin O. Hwang, M.D.\n",
      "Gallbladder disease see Cholecystitis\n",
      "GALE ENCYCLOPEDIA OF MEDICINE 21380\n",
      "Gallbladder cancer\n",
      "0.642518342 “Gallbladder Carcinoma.” In Clinical Oncology, edited by\n",
      "Abeloff, Martin D., second ed. New York: Churchill Liv-\n",
      "ingstone, 2000, pp.1730-1737.\n",
      "OTHER\n",
      "National Cancer Institute Cancer Trials web site. <http://cancer-\n",
      "trials.nci.nih.gov/system>. <http://www.cancertrials.com>.\n",
      "Kevin O. Hwang, M.D.\n",
      "Gallbladder disease see Cholecystitis\n",
      "GALE ENCYCLOPEDIA OF MEDICINE 21380\n",
      "Gallbladder cancer\n"
     ]
    }
   ],
   "source": [
    "#  matching data of query\n",
    "for match in results['matches']:\n",
    "    print(match['score'], match['metadata']['text'])\n"
   ]
  },
  {
   "cell_type": "code",
   "execution_count": 25,
   "id": "ba7f1c82-764a-4621-954b-09fac9b1cfa4",
   "metadata": {},
   "outputs": [
    {
     "name": "stderr",
     "output_type": "stream",
     "text": [
      "Device set to use cpu\n"
     ]
    },
    {
     "name": "stdout",
     "output_type": "stream",
     "text": [
      "Answer: Galactosemia is an inherited disease\n"
     ]
    }
   ],
   "source": [
    " #  getting answers\n",
    "from transformers import pipeline\n",
    "\n",
    "qa_model = pipeline(\"question-answering\", model=\"deepset/roberta-base-squad2\")\n",
    "\n",
    "context = \" \".join(retrieved_texts)\n",
    "result = qa_model(question=query, context=context)\n",
    "\n",
    "print(\"Answer:\", result['answer'])\n",
    "# print(chunks)\n"
   ]
  },
  {
   "cell_type": "code",
   "execution_count": null,
   "id": "f56b6780-2e28-4642-ae64-2da272f5bef6",
   "metadata": {},
   "outputs": [],
   "source": []
  }
 ],
 "metadata": {
  "kernelspec": {
   "display_name": "awferaprograming",
   "language": "python",
   "name": "python3"
  },
  "language_info": {
   "codemirror_mode": {
    "name": "ipython",
    "version": 3
   },
   "file_extension": ".py",
   "mimetype": "text/x-python",
   "name": "python",
   "nbconvert_exporter": "python",
   "pygments_lexer": "ipython3",
   "version": "3.13.2"
  }
 },
 "nbformat": 4,
 "nbformat_minor": 5
}
